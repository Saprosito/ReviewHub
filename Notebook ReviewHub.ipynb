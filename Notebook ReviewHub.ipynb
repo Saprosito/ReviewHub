{
  "cells": [
    {
      "cell_type": "markdown",
      "metadata": {
        "collapsed": true,
        "id": "wxOs9sI2AqOF"
      },
      "source": [
        "# Review HUB\n",
        "### Grupo D1\n",
        "\n",
        "<br>\n",
        "<b><i>Jhon Alexander Hernández Caicedo</i></b>\n",
        "<br>\n",
        "<b><i>Daniel Mauricio Perez Bolivar</i></b>\n",
        "<br>\n",
        "<b><i>Jesús Fernando Ramirez Ardila</i></b>\n",
        "<br>"
      ]
    },
    {
      "cell_type": "code",
      "source": [
        "#@title ReviewHub\n",
        "\n",
        "%%html\n",
        "<iframe width=\"560\" height=\"315\" src=\"https://www.youtube.com/embed/OD9bdw0-SqQ\" title=\"YouTube video player\" frameborder=\"0\" allow=\"accelerometer; autoplay; clipboard-write; encrypted-media; gyroscope; picture-in-picture\" allowfullscreen></iframe>\n"
      ],
      "metadata": {
        "colab": {
          "base_uri": "https://localhost:8080/",
          "height": 336
        },
        "id": "MM-i0Gt9Msz7",
        "outputId": "303e670c-5cc9-4fef-d6ae-93f8bc601cf7",
        "cellView": "form"
      },
      "execution_count": null,
      "outputs": [
        {
          "output_type": "display_data",
          "data": {
            "text/plain": [
              "<IPython.core.display.HTML object>"
            ],
            "text/html": [
              "<iframe width=\"560\" height=\"315\" src=\"https://www.youtube.com/embed/OD9bdw0-SqQ\" title=\"YouTube video player\" frameborder=\"0\" allow=\"accelerometer; autoplay; clipboard-write; encrypted-media; gyroscope; picture-in-picture\" allowfullscreen></iframe>"
            ]
          },
          "metadata": {}
        }
      ]
    },
    {
      "cell_type": "code",
      "source": [
        "#@title Problema\n",
        "#@markdown Hoy en día tenemos acceso a miles de formas de entretenimiento, por esto mismo\n",
        "#@markdown las personas no saben realmente que escoger, tranquilo no busques más nosotros tenemos la solución somos ReviewHub\n",
        "\n",
        "%%html\n",
        "<img src=https://cdn.pixabay.com/photo/2015/11/03/09/03/question-mark-1019983_960_720.jpg width=\"300\" ></img>"
      ],
      "metadata": {
        "cellView": "form",
        "id": "AMV5uq7qddpV",
        "colab": {
          "base_uri": "https://localhost:8080/",
          "height": 321
        },
        "outputId": "d258ec60-500d-4568-d39f-3c2b83370a49"
      },
      "execution_count": 1,
      "outputs": [
        {
          "output_type": "display_data",
          "data": {
            "text/plain": [
              "<IPython.core.display.HTML object>"
            ],
            "text/html": [
              "<img src=https://cdn.pixabay.com/photo/2015/11/03/09/03/question-mark-1019983_960_720.jpg width=\"300\" ></img>"
            ]
          },
          "metadata": {}
        }
      ]
    },
    {
      "cell_type": "code",
      "source": [
        "#@title Definicion Formal\n",
        "\n",
        "#@markdown Sea M una maquina de turing\n",
        "#@markdown $$M=(Q,q_0,F,Σ,r,B,\\delta)$$\n",
        "#@markdown Siendo $Q$ todos los estados $Q = \\{q_0,q_1,q_2,q_3,q_4,q_5,q_6,q_7\\}$\n",
        "\n",
        "#@markdown $q_0$ es el estado incial $q_0 = q_0$.\n",
        "\n",
        "#@markdown $F$ el conjunto de estados finales o de aceptacion $F = q_7$.\n",
        "\n",
        "#@markdown $Σ$ el alfabeto de entrada $Σ = \\{0, 1, a, s, p, x\\}$.\n",
        "\n",
        "#@markdown $r$ el alfabeto de la cinta $r = \\{0, 1, a, s, p, x, ε\\}$.\n",
        "\n",
        "#@markdown $B$ los espacion en blanco de la cinta $B = \\{ε\\}$.\n",
        "\n",
        "#@markdown $\\delta$ Las funciones de transicíon:\n",
        "\n",
        "#@markdown $\\delta(q_0,p)(q_0,ε) = (q_1,p,→)(q_1,p, →)$\n",
        "\n",
        "#@markdown $\\delta(q_0,s)(q_0,ε) = (q_1,s,→)(q_1,s, →)$\n",
        "\n",
        "#@markdown $\\delta(q_0,a)(q_0,ε) = (q_1,a,→)(q_1,a, →)$\n",
        "\n",
        "#@markdown $\\delta(q_1,0)(q_1,ε) = (q_2,0,→)(q_2,0, →)$\n",
        "\n",
        "#@markdown $\\delta(q_1,1)(q_1,ε) = (q_2,1,→)(q_2,1, →)$\n",
        "\n",
        "#@markdown $\\delta(q_2,0)(q_2,ε) = (q_3,0,→)(q_3,0, →)$\n",
        "\n",
        "#@markdown $\\delta(q_2,1)(q_2,ε) = (q_3,1,→)(q_3,1, →)$\n",
        "\n",
        "#@markdown $\\delta(q_3,0)(q_3,ε) = (q_4,0,→)(q_4,0, →)$\n",
        "\n",
        "#@markdown $\\delta(q_3,1)(q_3,ε) = (q_4,1,→)(q_4,1, →)$\n",
        "\n",
        "#@markdown $\\delta(q_4,0)(q_4,ε) = (q_5,0,→)(q_5,0, →)$\n",
        "\n",
        "#@markdown $\\delta(q_4,1)(q_4,ε) = (q_5,1,→)(q_5,1, →)$\n",
        "\n",
        "#@markdown $\\delta(q_5,x)(q_5,ε) = (q_6,x,→)(q_6,ε, ←)$\n",
        "\n",
        "#@markdown $\\delta(q_6,0)(q_6,0) = (q_6,0,→)(q_6,0, ←)$\n",
        "\n",
        "#@markdown $\\delta(q_6,1)(q_6,1) = (q_6,1,→)(q_6,1, ←)$\n",
        "\n",
        "#@markdown $\\delta(q_6,1)(q_6,0) = (q_6,1,→)(q_6,1, ←)$\n",
        "\n",
        "#@markdown $\\delta(q_6,0)(q_6,1) = (q_6,0,→)(q_6,0, ←)$\n",
        "\n",
        "#@markdown $\\delta(q_6,ε)(q_6,a) = (q_7,ε,→)(q_6,a, ←)$\n",
        "\n",
        "#@markdown $\\delta(q_6,ε)(q_6,s) = (q_7,ε,→)(q_6,s, ←)$\n",
        "\n",
        "#@markdown $\\delta(q_6,ε)(q_6,p) = (q_7,ε,→)(q_6,p, ←)$\n",
        "\n"
      ],
      "metadata": {
        "cellView": "form",
        "id": "vJR0USaEDvtb"
      },
      "execution_count": 7,
      "outputs": []
    },
    {
      "cell_type": "markdown",
      "metadata": {
        "id": "fiDqKYnbAqOK"
      },
      "source": [
        "# Diagrama del automata\n",
        "\n",
        "<img src=https://i.imgur.com/HrBgY2u.png width=\"1500\" ></img>"
      ]
    },
    {
      "cell_type": "markdown",
      "source": [
        "\n",
        "\n"
      ],
      "metadata": {
        "id": "FBKRBPxSQEoK"
      }
    },
    {
      "cell_type": "code",
      "source": [
        "!pip install automata-lib==1.0.0.post4"
      ],
      "metadata": {
        "colab": {
          "base_uri": "https://localhost:8080/"
        },
        "id": "cCaYo2s9BiQW",
        "outputId": "496cd0e1-6940-4cd0-8701-f83e997f205d"
      },
      "execution_count": null,
      "outputs": [
        {
          "output_type": "stream",
          "name": "stdout",
          "text": [
            "Requirement already satisfied: automata-lib==1.0.0.post4 in /usr/local/lib/python3.7/dist-packages (1.0.0.post4)\n"
          ]
        }
      ]
    },
    {
      "cell_type": "markdown",
      "metadata": {
        "id": "AyDuuuaTAqOL"
      },
      "source": [
        "# Diccionario \n",
        "\n",
        "En el siguiente diccionario se encuentran las distintas claves a las preguntas a responder.\n"
      ]
    },
    {
      "cell_type": "code",
      "execution_count": null,
      "metadata": {
        "id": "YH53Ex13AqOM"
      },
      "outputs": [],
      "source": [
        "reviews= {\n",
        "    'a0000':'Genero: Acción - Anime: Kimetsu no Yaiba',\n",
        "    'a0001':'Genero: Comedia - Anime: Nichijou',\n",
        "    'a0010':'Genero: Terror - Anime: Yakusoku No Neverland',\n",
        "    'a0011':'Genero: Aventuras - Anime: One Piece',\n",
        "    'a0100':'Genero: Ciencia Ficción - Anime: Parasyte',\n",
        "    'a0101':'Genero: Drama - Anime: Violet Evergarden',\n",
        "    'a0110':'Genero: Fantasía - Anime: Black Clover',\n",
        "    'a0111':'Genero: Suspenso - Anime: Death Note',\n",
        "    'a1000':'Genero: Musical - Anime: Shigatsu wa Kimi no Uso',\n",
        "    'a1001':'Genero: Belico - Anime: Ghost in the Shell',\n",
        "    'a1010':'Genero: Romance - Anime: Horimiya',\n",
        "    'a1011':'Genero: Violencia - Anime: Uzumaki',\n",
        "    'a1100':'Genero: Comedia Romantica - Anime: Seishun Buta',\n",
        "    'a1101':'Genero: Terror Psicologico - Anime: ',\n",
        "    'a1110':'Genero: Zombies - Anime: Highschool of the Dead',\n",
        "    'a1111':'Genero: Edad Media - Anime: Berserk',\n",
        "    's0000':'Genero: Acción - Serie: La rueda del Tiempo',\n",
        "    's0001':'Genero: Comedia - Serie: Guerra de Vecinos',\n",
        "    's0010':'Genero: Terror - Serie: Archivo 81',\n",
        "    's0011':'Genero: Aventuras - Serie: Destino',\n",
        "    's0100':'Genero: Ciencia Ficción - Serie: Upload',\n",
        "    's0101':'Genero: Drama - Serie: Control Z',\n",
        "    's0110':'Genero: Fantasía - Serie: Juego de Tronos',\n",
        "    's0111':'Genero: Suspenso - Serie: Oscuro Deseo',\n",
        "    's1000':'Genero: Musical - Serie: Rebelde',\n",
        "    's1001':'Genero: Belico - Serie: Hermanos de sangre',\n",
        "    's1010':'Genero: Romance - Serie: Pasión de Gavilanes',\n",
        "    's1011':'Genero: Violencia - Serie: Boardwalk Empire',\n",
        "    's1100':'Genero: Comedia Romantica - Serie:',\n",
        "    's1101':'Genero: Terror Psicologico - Serie:',\n",
        "    's1110':'Genero: Zombies - Serie: The Walking Dead',\n",
        "    's1111':'Genero: Edad Media - Serie: Vikingos',\n",
        "    'p0000':'Genero: Acción - Película: Spider-Man: No Way Home',\n",
        "    'p0001':'Genero: Comedia - Película: Son como niños',\n",
        "    'p0010':'Genero: Terror - Película: Nadie sale con vida',\n",
        "    'p0011':'Genero: Aventuras - Película: Raya y el ultimo Dragón',\n",
        "    'p0100':'Genero: Ciencia Ficción - Película: Interestelar',\n",
        "    'p0101':'Genero: Drama - Película: After',\n",
        "    'p0110':'Genero: Fantasía - Película: Ghostbusters',\n",
        "    'p0111':'Genero: Suspenso - Película: Corre',\n",
        "    'p1000':'Genero: Musical - Película: Coco',\n",
        "    'p1001':'Genero: Belico - Película: 1917',\n",
        "    'p1010':'Genero: Romance - Película: Life in a Year',\n",
        "    'p1011':'Genero: Violencia - Película: La purga',\n",
        "    'p1100':'Genero: Comedia Romantica - Película: Él es así',\n",
        "    'p1101':'Genero: Terror Psicologico - Película: Escape Room',\n",
        "    'p1110':'Genero: Zombies - Película: Resident Evil',\n",
        "    'p1111':'Genero: Edad Media - Película: Robin Hood',\n",
        "}"
      ]
    },
    {
      "cell_type": "markdown",
      "metadata": {
        "id": "wCBi8geHAqOQ"
      },
      "source": [
        "# Implementación máquina de turing \n",
        "\n",
        "Se realizará la verificación de las respectivas posiciones."
      ]
    },
    {
      "cell_type": "code",
      "source": [
        "import sys\n",
        "\n",
        "#convert reading direction to index number\n",
        "#r:right , l:left , s:stop\n",
        "def dir2index(rdir):\n",
        "\tif rdir==\"r\":\n",
        "\t\treturn 1\n",
        "\telif rdir==\"l\":\n",
        "\t\treturn -1\n",
        "\telif rdir == \"s\":\n",
        "\t\treturn 0\n",
        "\n",
        "\n",
        "def validate(tapes,numTapes,myInput,input_symbols,states,transitions,initial_state,final_states):\n",
        "\n",
        "\t#Creates a given number of tapes\n",
        "\tfor i in range(numTapes):\n",
        "\t\ttapes.append([\"\"])\n",
        "\tfor i in range(numTapes):\n",
        "\t\tif i!=0:\n",
        "\t\t\t#print(\"2nd and so on\")\n",
        "\t\t\tnumcells = 30\n",
        "\t\t\tfor n in range(numcells):\n",
        "\t\t\t\ttapes[i].append(\"\")\n",
        "\tprint(\"Creating \"+str(numTapes)+\" tapes.\\n\")\n",
        "\n",
        "\n",
        "\tprint(\"Reading input...\")\n",
        "\tfor i in myInput:\n",
        "\t\ttapes[0].append(i)\n",
        "\ttapes[0].append(\"\")\n",
        "\tprint(\"tape1:\",tapes[0])\n",
        "\tprint(\"tape2:\",tapes[1])\n",
        "\n",
        "\n",
        "\tprint(\"\\nValidating input...\")\n",
        "\tfor m in myInput:\n",
        "\t\tif m not in input_symbols:\n",
        "\t\t\tprint(\"Error: the letter \"+m+\" is not defined inside current input_symbols.\\n\")\n",
        "\t\t\treturn 0\n",
        "\n",
        "\n",
        "\tprint(\"Validating states...\")\n",
        "\tfor s in states:\n",
        "\t\tif s not in transitions:\n",
        "\t\t\tprint(\"Error: there is not a transition entry for state \", s)\n",
        "\t\t\tprint(\"All states must have a transition entry.\\n\")\n",
        "\t\t\treturn 0\n",
        "\n",
        "\n",
        "\t#All tapes must start with index number 1\n",
        "\tindextapes=[]\n",
        "\tfor t in range(numTapes):\n",
        "\t\tindextapes.append(1)\n",
        "\n",
        "\n",
        "\tprint(\"\\nProcessing...\")\n",
        "\thead2 = initial_state\n",
        "\n",
        "\twhile head2 not in final_states:\n",
        "\t\ttry:\n",
        "\t\t\tprint(transitions[head2][(tapes[0][indextapes[0]],tapes[1][indextapes[1]])])\n",
        "\t\t\ttemp0 = transitions[head2][(tapes[0][indextapes[0]],tapes[1][indextapes[1]])]\n",
        "\t\texcept:\n",
        "\t\t\tprint(\"ERROR: there is not a transition for \",(tapes[0][indextapes[0]],tapes[1][indextapes[1]]))\n",
        "\t\t\treturn 0\n",
        "\n",
        "\t\tfor i in range(numTapes):\n",
        "\t\t\t#According to transition entries, letters for each tape position are updated\n",
        "\t\t\ttapes[i][indextapes[i]] = temp0[1][i]\n",
        "\t\t\tprint(tapes[i])\n",
        "\t\t\tprint(\"move-to: \",temp0[2][i],dir2index(temp0[2][i]))\n",
        "\t\t\t#According to transition entries, target index numbers are updated\n",
        "\t\t\tindextapes[i] = indextapes[i] + dir2index(temp0[2][i])\n",
        "\t\t\tprint(\"new-pos: \",indextapes[i])\n",
        "\t\t#According to transition entries, target state is updated\n",
        "\t\tprint(\"Next-state: \"+temp0[0]+\"\\n\")\n",
        "\t\thead2 = temp0[0]\n",
        "\n",
        "\tprint(\"\\n-----------------------------------\")\n",
        "\tprint(\"Good!, the input word is accepted!\")\n",
        "\tprint(\"-----------------------------------\")"
      ],
      "metadata": {
        "id": "3qArcqxhzgEh"
      },
      "execution_count": null,
      "outputs": []
    },
    {
      "cell_type": "code",
      "execution_count": null,
      "metadata": {
        "id": "p0dix6FTAqOQ"
      },
      "outputs": [],
      "source": [
        "def MTTM(myInput, tapes, numTapes):\n",
        "    \n",
        "    states = {'q0', 'q1', 'q2', 'q3', 'q4', 'q5', 'q6', 'q7'}\n",
        "    input_symbols = {'0', '1', 'a', 's', 'p', 'x'}\n",
        "    \n",
        "    transitions = {\n",
        "        'q0':{\n",
        "            ('a',''):('q1',('a','a'),('r','r')),\n",
        "            ('s',''):('q1',('s','s'),('r','r')),\n",
        "            ('p',''):('q1',('p','p'),('r','r'))\n",
        "        },\n",
        "        'q1':{\n",
        "            ('0',''):('q2',('0','0'),('r','r')),\n",
        "            ('1',''):('q2',('1','1'),('r','r'))\n",
        "        },\n",
        "        'q2':{\n",
        "            ('0',''):('q3',('0','0'),('r','r')),\n",
        "            ('1',''):('q3',('1','1'),('r','r'))\n",
        "        },\n",
        "        'q3':{\n",
        "            ('0',''):('q4',('0','0'),('r','r')),\n",
        "            ('1',''):('q4',('1','1'),('r','r'))\n",
        "        },\n",
        "        'q4':{\n",
        "            ('0',''):('q5',('0','0'),('r','r')),\n",
        "            ('1',''):('q5',('1','1'),('r','r'))\n",
        "        },\n",
        "        'q5':{\n",
        "            ('x',''):('q6',('x',''),('r','l'))\n",
        "        },\n",
        "        'q6':{\n",
        "            ('0','1'):('q6',('0','0'),('r','l')),\n",
        "            ('1','1'):('q6',('1','1'),('r','l')),\n",
        "            ('0','0'):('q6',('0','0'),('r','l')),\n",
        "            ('1','0'):('q6',('1','1'),('r','l')),\n",
        "            ('','a'):('q7',('','a'),('r','l')),\n",
        "            ('','s'):('q7',('','s'),('r','l')),\n",
        "            ('','p'):('q7',('','p'),('r','l'))\n",
        "        },\n",
        "        'q7':{\n",
        "            \n",
        "        }\n",
        "    }\n",
        "    initial_state ='q0'\n",
        "    final_states ={'q7'}\n",
        "    validate(tapes,numTapes,myInput,input_symbols,states,transitions,initial_state,final_states)\n",
        "    print(\"\\n\") "
      ]
    },
    {
      "cell_type": "code",
      "execution_count": null,
      "metadata": {
        "colab": {
          "base_uri": "https://localhost:8080/"
        },
        "id": "uHeLmSoKAqOR",
        "outputId": "b86ef8ac-3543-4a20-f5fd-dc165dd03b13"
      },
      "outputs": [
        {
          "output_type": "stream",
          "name": "stdout",
          "text": [
            "Por favor ingresa 0 para NO y 1 para SÍ\n",
            "\n",
            " Quieres ver un anime(a), serie(s) o película(p)\n",
            "a\n",
            "\n",
            "1. ¿Eres feliz?\n",
            "0\n",
            "\n",
            "2. ¿Te sientes solo?\n",
            "0\n",
            "\n",
            "3. ¿Consideras que eres una persona infantil?\n",
            "0\n",
            "\n",
            "4. ¿Te gusta dialogar de temas serios/profundos?\n",
            "0\n",
            "\n",
            "5. ¿Consideras buenos los programas que te dan algo para pensar?\n",
            "0\n",
            "\n",
            "6. ¿Eres fan de la fotografia?\n",
            "0\n",
            "\n",
            "7. ¿Posees mucho tiempo libre?\n",
            "0\n",
            "\n",
            "8. ¿Te gusta tu realidad?\n",
            "0\n",
            "a0000x0000\n"
          ]
        }
      ],
      "source": [
        "0print(\"Por favor ingresa 0 para NO y 1 para SÍ\")\n",
        "\n",
        "print(\"\\n Quieres ver un anime(a), serie(s) o película(p)\")\n",
        "q = str(input())\n",
        "\n",
        "print(\"\\n1. ¿Eres feliz?\")\n",
        "r1 = str(input())\n",
        "\n",
        "print(\"\\n2. ¿Te sientes solo?\")\n",
        "r2 = str(input())\n",
        "\n",
        "print(\"\\n3. ¿Consideras que eres una persona infantil?\")\n",
        "r3 = str(input())\n",
        "\n",
        "print(\"\\n4. ¿Te gusta dialogar de temas serios/profundos?\")\n",
        "r4 = str(input())\n",
        "\n",
        "print(\"\\n5. ¿Consideras buenos los programas que te dan algo para pensar?\")\n",
        "r5 = str(input())\n",
        "\n",
        "print(\"\\n6. ¿Eres fan de la fotografia?\")\n",
        "r6 = str(input())\n",
        "\n",
        "print(\"\\n7. ¿Posees mucho tiempo libre?\")\n",
        "r7 = str(input())\n",
        "\n",
        "print(\"\\n8. ¿Te gusta tu realidad?\")\n",
        "r8 = str(input())\n",
        "\n",
        "\n",
        "resultado = q+r1+r2+r3+r4+\"x\"+r5+r6+r7+r8\n",
        "\n",
        "print(resultado)\n"
      ]
    },
    {
      "cell_type": "code",
      "source": [
        "myInput = resultado\n",
        "myTapes = []\n",
        "numTapes = 2\n",
        "\n",
        "MTTM(myInput, myTapes, numTapes)"
      ],
      "metadata": {
        "colab": {
          "base_uri": "https://localhost:8080/"
        },
        "id": "HuLLlzNU4BHn",
        "outputId": "01e0de10-b56d-493d-8b5f-14482d03aa8e"
      },
      "execution_count": null,
      "outputs": [
        {
          "output_type": "stream",
          "name": "stdout",
          "text": [
            "Creating 2 tapes.\n",
            "\n",
            "Reading input...\n",
            "tape1: ['', 'a', '0', '0', '0', '0', 'x', '0', '0', '0', '0', '']\n",
            "tape2: ['', '', '', '', '', '', '', '', '', '', '', '', '', '', '', '', '', '', '', '', '', '', '', '', '', '', '', '', '', '', '']\n",
            "\n",
            "Validating input...\n",
            "Validating states...\n",
            "\n",
            "Processing...\n",
            "('q1', ('a', 'a'), ('r', 'r'))\n",
            "['', 'a', '0', '0', '0', '0', 'x', '0', '0', '0', '0', '']\n",
            "move-to:  r 1\n",
            "new-pos:  2\n",
            "['', 'a', '', '', '', '', '', '', '', '', '', '', '', '', '', '', '', '', '', '', '', '', '', '', '', '', '', '', '', '', '']\n",
            "move-to:  r 1\n",
            "new-pos:  2\n",
            "Next-state: q1\n",
            "\n",
            "('q2', ('0', '0'), ('r', 'r'))\n",
            "['', 'a', '0', '0', '0', '0', 'x', '0', '0', '0', '0', '']\n",
            "move-to:  r 1\n",
            "new-pos:  3\n",
            "['', 'a', '0', '', '', '', '', '', '', '', '', '', '', '', '', '', '', '', '', '', '', '', '', '', '', '', '', '', '', '', '']\n",
            "move-to:  r 1\n",
            "new-pos:  3\n",
            "Next-state: q2\n",
            "\n",
            "('q3', ('0', '0'), ('r', 'r'))\n",
            "['', 'a', '0', '0', '0', '0', 'x', '0', '0', '0', '0', '']\n",
            "move-to:  r 1\n",
            "new-pos:  4\n",
            "['', 'a', '0', '0', '', '', '', '', '', '', '', '', '', '', '', '', '', '', '', '', '', '', '', '', '', '', '', '', '', '', '']\n",
            "move-to:  r 1\n",
            "new-pos:  4\n",
            "Next-state: q3\n",
            "\n",
            "('q4', ('0', '0'), ('r', 'r'))\n",
            "['', 'a', '0', '0', '0', '0', 'x', '0', '0', '0', '0', '']\n",
            "move-to:  r 1\n",
            "new-pos:  5\n",
            "['', 'a', '0', '0', '0', '', '', '', '', '', '', '', '', '', '', '', '', '', '', '', '', '', '', '', '', '', '', '', '', '', '']\n",
            "move-to:  r 1\n",
            "new-pos:  5\n",
            "Next-state: q4\n",
            "\n",
            "('q5', ('0', '0'), ('r', 'r'))\n",
            "['', 'a', '0', '0', '0', '0', 'x', '0', '0', '0', '0', '']\n",
            "move-to:  r 1\n",
            "new-pos:  6\n",
            "['', 'a', '0', '0', '0', '0', '', '', '', '', '', '', '', '', '', '', '', '', '', '', '', '', '', '', '', '', '', '', '', '', '']\n",
            "move-to:  r 1\n",
            "new-pos:  6\n",
            "Next-state: q5\n",
            "\n",
            "('q6', ('x', ''), ('r', 'l'))\n",
            "['', 'a', '0', '0', '0', '0', 'x', '0', '0', '0', '0', '']\n",
            "move-to:  r 1\n",
            "new-pos:  7\n",
            "['', 'a', '0', '0', '0', '0', '', '', '', '', '', '', '', '', '', '', '', '', '', '', '', '', '', '', '', '', '', '', '', '', '']\n",
            "move-to:  l -1\n",
            "new-pos:  5\n",
            "Next-state: q6\n",
            "\n",
            "('q6', ('0', '0'), ('r', 'l'))\n",
            "['', 'a', '0', '0', '0', '0', 'x', '0', '0', '0', '0', '']\n",
            "move-to:  r 1\n",
            "new-pos:  8\n",
            "['', 'a', '0', '0', '0', '0', '', '', '', '', '', '', '', '', '', '', '', '', '', '', '', '', '', '', '', '', '', '', '', '', '']\n",
            "move-to:  l -1\n",
            "new-pos:  4\n",
            "Next-state: q6\n",
            "\n",
            "('q6', ('0', '0'), ('r', 'l'))\n",
            "['', 'a', '0', '0', '0', '0', 'x', '0', '0', '0', '0', '']\n",
            "move-to:  r 1\n",
            "new-pos:  9\n",
            "['', 'a', '0', '0', '0', '0', '', '', '', '', '', '', '', '', '', '', '', '', '', '', '', '', '', '', '', '', '', '', '', '', '']\n",
            "move-to:  l -1\n",
            "new-pos:  3\n",
            "Next-state: q6\n",
            "\n",
            "('q6', ('0', '0'), ('r', 'l'))\n",
            "['', 'a', '0', '0', '0', '0', 'x', '0', '0', '0', '0', '']\n",
            "move-to:  r 1\n",
            "new-pos:  10\n",
            "['', 'a', '0', '0', '0', '0', '', '', '', '', '', '', '', '', '', '', '', '', '', '', '', '', '', '', '', '', '', '', '', '', '']\n",
            "move-to:  l -1\n",
            "new-pos:  2\n",
            "Next-state: q6\n",
            "\n",
            "('q6', ('0', '0'), ('r', 'l'))\n",
            "['', 'a', '0', '0', '0', '0', 'x', '0', '0', '0', '0', '']\n",
            "move-to:  r 1\n",
            "new-pos:  11\n",
            "['', 'a', '0', '0', '0', '0', '', '', '', '', '', '', '', '', '', '', '', '', '', '', '', '', '', '', '', '', '', '', '', '', '']\n",
            "move-to:  l -1\n",
            "new-pos:  1\n",
            "Next-state: q6\n",
            "\n",
            "('q7', ('', 'a'), ('r', 'l'))\n",
            "['', 'a', '0', '0', '0', '0', 'x', '0', '0', '0', '0', '']\n",
            "move-to:  r 1\n",
            "new-pos:  12\n",
            "['', 'a', '0', '0', '0', '0', '', '', '', '', '', '', '', '', '', '', '', '', '', '', '', '', '', '', '', '', '', '', '', '', '']\n",
            "move-to:  l -1\n",
            "new-pos:  0\n",
            "Next-state: q7\n",
            "\n",
            "\n",
            "-----------------------------------\n",
            "Good!, the input word is accepted!\n",
            "-----------------------------------\n",
            "\n",
            "\n"
          ]
        }
      ]
    },
    {
      "cell_type": "code",
      "source": [
        "#@title Hola de nuevo, por favor haz lo siguiente:\n",
        "#@markdown - Revisa cual fue el resultado en la cinta, como esta señalado en rojo\n",
        "#@markdown - Luego ingresa lo señalado en rojo al input de la siguiente celda\n",
        " \n",
        "\n",
        "%%html\n",
        "<h2>Esta es la cinta y está en la celda de arriba</h2> <img src=\"https://i.imgur.com/EC5G6z1.png\">\n",
        "<h2>Este es el input y está en la celda de abajo</h2><img src=\"https://i.imgur.com/OkJPzOV.png\">\n",
        "\n"
      ],
      "metadata": {
        "colab": {
          "base_uri": "https://localhost:8080/",
          "height": 415
        },
        "cellView": "form",
        "id": "dxUKmL03-fr5",
        "outputId": "6cd2eaaf-c584-499e-c2ed-c11502106dc1"
      },
      "execution_count": null,
      "outputs": [
        {
          "output_type": "display_data",
          "data": {
            "text/plain": [
              "<IPython.core.display.HTML object>"
            ],
            "text/html": [
              "<h2>Esta es la cinta y está en la celda de arriba</h2> <img src=\"https://i.imgur.com/EC5G6z1.png\">\n",
              "<h2>Este es el input y está en la celda de abajo</h2><img src=\"https://i.imgur.com/OkJPzOV.png\">\n"
            ]
          },
          "metadata": {}
        }
      ]
    },
    {
      "cell_type": "code",
      "source": [
        "print('Por favor ingrese el resultado de la segunda cinta')\n",
        "resultado = str(input())\n",
        "try:\n",
        "    \n",
        "    for key in reviews.keys():\n",
        "        if key == resultado:\n",
        "            print(reviews[key])\n",
        "            break\n",
        "except:\n",
        "    print(\"Ingresa bien el resultado de la cinta, por favor guiate con el instructivo de la anterior celda\")"
      ],
      "metadata": {
        "colab": {
          "base_uri": "https://localhost:8080/"
        },
        "id": "iMohJtvo_vFR",
        "outputId": "e86aa426-8203-480f-e517-18c53e4d03ad"
      },
      "execution_count": null,
      "outputs": [
        {
          "output_type": "stream",
          "name": "stdout",
          "text": [
            "Por favor ingrese el resultado de la segunda cinta\n",
            "a0000\n",
            "Genero: Acción - Anime: Kimetsu no Yaiba\n"
          ]
        }
      ]
    }
  ],
  "metadata": {
    "kernelspec": {
      "display_name": "Python 3",
      "language": "python",
      "name": "python3"
    },
    "language_info": {
      "codemirror_mode": {
        "name": "ipython",
        "version": 3
      },
      "file_extension": ".py",
      "mimetype": "text/x-python",
      "name": "python",
      "nbconvert_exporter": "python",
      "pygments_lexer": "ipython3",
      "version": "3.6.2"
    },
    "colab": {
      "name": "proyectoAutomatas_final.ipynb",
      "provenance": [],
      "collapsed_sections": []
    }
  },
  "nbformat": 4,
  "nbformat_minor": 0
}